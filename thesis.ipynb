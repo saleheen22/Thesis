{
 "cells": [
  {
   "cell_type": "code",
   "execution_count": null,
   "id": "05ed5ff3",
   "metadata": {},
   "outputs": [],
   "source": []
  },
  {
   "cell_type": "code",
   "execution_count": null,
   "id": "29e84915",
   "metadata": {},
   "outputs": [],
   "source": [
    "import pandas as pd\n",
    "\n",
    "df = pd.read_csv('dummy.csv')\n",
    "df"
   ]
  },
  {
   "cell_type": "code",
   "execution_count": null,
   "id": "3fd5ce39",
   "metadata": {},
   "outputs": [],
   "source": [
    "df = df.sample(frac=1).reset_index(drop=True)\n",
    "df"
   ]
  },
  {
   "cell_type": "code",
   "execution_count": null,
   "id": "2b26a42f",
   "metadata": {},
   "outputs": [],
   "source": [
    "df = df.dropna()"
   ]
  },
  {
   "cell_type": "code",
   "execution_count": null,
   "id": "f52556a7",
   "metadata": {},
   "outputs": [],
   "source": [
    "X = df.drop('Labels', axis=1)"
   ]
  },
  {
   "cell_type": "code",
   "execution_count": null,
   "id": "6356e595",
   "metadata": {},
   "outputs": [],
   "source": [
    "y = df['Labels']"
   ]
  },
  {
   "cell_type": "code",
   "execution_count": null,
   "id": "fb9281d9",
   "metadata": {},
   "outputs": [],
   "source": [
    "y1 = df[df['Labels']==0]"
   ]
  },
  {
   "cell_type": "code",
   "execution_count": null,
   "id": "860fef8e",
   "metadata": {},
   "outputs": [],
   "source": [
    "y2 = df[df['Labels']==1]"
   ]
  },
  {
   "cell_type": "code",
   "execution_count": null,
   "id": "7619257a",
   "metadata": {},
   "outputs": [],
   "source": [
    "df['Labels'].value_counts()"
   ]
  },
  {
   "cell_type": "code",
   "execution_count": null,
   "id": "ca9b1364",
   "metadata": {},
   "outputs": [],
   "source": [
    "import tensorflow as tf"
   ]
  },
  {
   "cell_type": "code",
   "execution_count": null,
   "id": "6dda5e09",
   "metadata": {},
   "outputs": [],
   "source": [
    "from tensorflow.keras.layers import Embedding, Dropout\n",
    "from tensorflow.keras.preprocessing.sequence import pad_sequences\n",
    "from tensorflow.keras.models import Sequential\n",
    "from tensorflow.keras.preprocessing.text import one_hot\n",
    "from tensorflow.keras.layers import LSTM, GRU, Bidirectional, SimpleRNN, Conv1D, MaxPooling1D, Flatten\n",
    "from tensorflow.keras.layers import Dense\n",
    "import keras\n",
    "from keras import regularizers \n",
    "from keras.regularizers import l2\n",
    "from keras_self_attention import SeqSelfAttention"
   ]
  },
  {
   "cell_type": "code",
   "execution_count": null,
   "id": "a2e0ac27",
   "metadata": {},
   "outputs": [],
   "source": [
    "voc_size = 13083"
   ]
  },
  {
   "cell_type": "code",
   "execution_count": null,
   "id": "0b1d86c2",
   "metadata": {},
   "outputs": [],
   "source": [
    "stop_words = pd.read_csv('stwords.csv')\n",
    "stop_words = stop_words['Words'].tolist()\n",
    "stop_words.index('a')"
   ]
  },
  {
   "cell_type": "code",
   "execution_count": null,
   "id": "36f1a5b0",
   "metadata": {},
   "outputs": [],
   "source": [
    "from fuzzywuzzy import fuzz\n",
    "from fuzzywuzzy import process\n",
    "import fuzzy"
   ]
  },
  {
   "cell_type": "code",
   "execution_count": null,
   "id": "37879e4a",
   "metadata": {},
   "outputs": [],
   "source": [
    "import nltk\n",
    "import re\n",
    "corpus = []\n",
    "\n",
    "for i in range(0, len(reviews)):\n",
    "    print(i)\n",
    "    comment = re.sub('[^a-zA-z]', ' ', reviews['Reviews'][i])\n",
    "    comment = comment.lower()\n",
    "    comment = comment.split()\n",
    "    print(comment)\n",
    "\n",
    "    \n",
    "    \n",
    "    comment = [word for word in comment if not word in stop_words]\n",
    "    comment = ' '.join(comment)\n",
    "    corpus.append(comment)\n",
    "    print(\"After cleaning\")\n",
    "    print(comment)"
   ]
  },
  {
   "cell_type": "code",
   "execution_count": null,
   "id": "d7747f7f",
   "metadata": {},
   "outputs": [],
   "source": [
    "mw = pd.read_csv('most_frequent_words.csv')\n",
    "mw = mw.dropna()"
   ]
  },
  {
   "cell_type": "code",
   "execution_count": null,
   "id": "d5946de6",
   "metadata": {},
   "outputs": [],
   "source": []
  },
  {
   "cell_type": "code",
   "execution_count": null,
   "id": "60d514b5",
   "metadata": {},
   "outputs": [],
   "source": []
  },
  {
   "cell_type": "code",
   "execution_count": null,
   "id": "4080c700",
   "metadata": {},
   "outputs": [],
   "source": [
    "mw = mw[\"Words\"].tolist()\n",
    "mw = set(mw)\n",
    "mw = list(mw)\n",
    "mw\n"
   ]
  },
  {
   "cell_type": "code",
   "execution_count": null,
   "id": "7fff82c9",
   "metadata": {},
   "outputs": [],
   "source": [
    "s = 0\n",
    "updated_corpus = []\n",
    "dphone = fuzzy.DMetaphone(4)\n",
    "for i in corpus:\n",
    "    cor = i.split()\n",
    "    for j in mw:\n",
    "        d_1 = dphone(j)\n",
    "        for k in range(len(cor)):\n",
    "\n",
    "            d_2 = dphone(cor[k])\n",
    "            \n",
    "            if j != cor[k] and fuzz.token_sort_ratio(d_1[0], d_2[0])> 74 and fuzz.token_sort_ratio(j,cor[k])>74 :\n",
    "                print( j, \"--\", cor[k])\n",
    "                \n",
    "\n",
    "                s =s +1\n",
    "                cor[k] = j\n",
    "                \n",
    "#                 if s>200 and s<251: \n",
    "     \n",
    "                                  \n",
    "    g = \" \".join(cor)\n",
    "    updated_corpus.append(g)  \n",
    "        \n",
    "print(s)"
   ]
  },
  {
   "cell_type": "code",
   "execution_count": null,
   "id": "5c2a640f",
   "metadata": {},
   "outputs": [],
   "source": [
    "corpus = updated_corpus\n",
    "corpus"
   ]
  },
  {
   "cell_type": "code",
   "execution_count": null,
   "id": "382d1c6d",
   "metadata": {},
   "outputs": [],
   "source": [
    "mx = max(corpus, key = len)\n",
    "mx = mx.split()\n",
    "len(mx)"
   ]
  },
  {
   "cell_type": "code",
   "execution_count": null,
   "id": "8becb0a5",
   "metadata": {},
   "outputs": [],
   "source": [
    "onehot_repr = [one_hot(words,voc_size) for words in corpus]\n",
    "len(corpus)"
   ]
  },
  {
   "cell_type": "code",
   "execution_count": null,
   "id": "28f244a7",
   "metadata": {},
   "outputs": [],
   "source": [
    "onehot_repr = [one_hot(words,voc_size) for words in corpus]\n",
    "len(corpus)"
   ]
  },
  {
   "cell_type": "code",
   "execution_count": null,
   "id": "8b13992f",
   "metadata": {},
   "outputs": [],
   "source": [
    "sent_length = 131\n",
    "embedded_docs = pad_sequences(onehot_repr, padding = 'pre', maxlen = sent_length)\n",
    "embedded_docs"
   ]
  },
  {
   "cell_type": "code",
   "execution_count": null,
   "id": "85ff3aee",
   "metadata": {},
   "outputs": [],
   "source": []
  },
  {
   "cell_type": "code",
   "execution_count": null,
   "id": "80d31e1b",
   "metadata": {},
   "outputs": [],
   "source": []
  },
  {
   "cell_type": "code",
   "execution_count": null,
   "id": "e647773c",
   "metadata": {},
   "outputs": [],
   "source": []
  },
  {
   "cell_type": "code",
   "execution_count": null,
   "id": "3b9f8df5",
   "metadata": {},
   "outputs": [],
   "source": []
  },
  {
   "cell_type": "code",
   "execution_count": null,
   "id": "bf46f399",
   "metadata": {},
   "outputs": [],
   "source": [
    "embedding_vector_features = 60\n",
    "model = Sequential()\n",
    "model.add(Embedding(voc_size, embedding_vector_features, input_length= sent_length))\n",
    "model.add(Conv1D(filters=64, kernel_size=3, padding='same', activation='relu'))\n",
    "model.add(MaxPooling1D(pool_size=2))\n",
    "\n",
    "\n",
    "model.add(Conv1D(filters=126, kernel_size=24, padding='same', activation='relu'))\n",
    "model.add(MaxPooling1D(pool_size=2))\n",
    "model.add(Dropout(0.2))\n",
    "\n",
    "\n",
    "model.add((GRU(20)))\n",
    "\n",
    "model.add(keras.layers.Flatten())\n",
    "\n",
    "#without svc\n",
    "model.add(Dense(1, activation ='sigmoid'))\n",
    "model.compile(optimizer = 'adam', loss = 'binary_crossentropy', metrics = ['accuracy'])\n",
    "\n",
    "print(model.summary())"
   ]
  },
  {
   "cell_type": "code",
   "execution_count": null,
   "id": "abf0434a",
   "metadata": {},
   "outputs": [],
   "source": [
    "import numpy as np\n",
    "X_final = np.array(embedded_docs)\n",
    "y_final = np.array(y)\n"
   ]
  },
  {
   "cell_type": "code",
   "execution_count": null,
   "id": "4d6ef4bc",
   "metadata": {},
   "outputs": [],
   "source": [
    "\n",
    "from sklearn.model_selection import train_test_split\n",
    "X_train, X_test, y_train, y_test = train_test_split(X_final, y_final, test_size = 0.2, random_state = 42)"
   ]
  },
  {
   "cell_type": "code",
   "execution_count": null,
   "id": "41eb70dd",
   "metadata": {},
   "outputs": [],
   "source": [
    "a = model.fit(X_train, y_train, epochs = 10,validation_data = (X_test, y_test), batch_size = 100)"
   ]
  },
  {
   "cell_type": "code",
   "execution_count": null,
   "id": "e8ee0f4d",
   "metadata": {},
   "outputs": [],
   "source": [
    "y_pred = model.predict_classes(X_test)"
   ]
  },
  {
   "cell_type": "code",
   "execution_count": null,
   "id": "fc861809",
   "metadata": {},
   "outputs": [],
   "source": [
    "y_pred.flatten()"
   ]
  }
 ],
 "metadata": {
  "kernelspec": {
   "display_name": "Python 3",
   "language": "python",
   "name": "python3"
  },
  "language_info": {
   "codemirror_mode": {
    "name": "ipython",
    "version": 3
   },
   "file_extension": ".py",
   "mimetype": "text/x-python",
   "name": "python",
   "nbconvert_exporter": "python",
   "pygments_lexer": "ipython3",
   "version": "3.8.8"
  }
 },
 "nbformat": 4,
 "nbformat_minor": 5
}
